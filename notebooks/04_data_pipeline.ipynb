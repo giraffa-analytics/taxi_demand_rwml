{
 "cells": [
  {
   "cell_type": "code",
   "execution_count": 1,
   "metadata": {},
   "outputs": [],
   "source": [
    "import sys\n",
    "import os\n",
    "sys.path.append(\"C:/Users/user/Documents/Giraffa/my_learning_projects/taxi_demand_rwml\")\n",
    "\n",
    "from src.data import load_raw_data"
   ]
  },
  {
   "cell_type": "code",
   "execution_count": 2,
   "metadata": {},
   "outputs": [
    {
     "name": "stderr",
     "output_type": "stream",
     "text": [
      "  0%|          | 0/12 [00:00<?, ?it/s]C:\\Users/user/Documents/Giraffa/my_learning_projects/taxi_demand_rwml\\src\\data.py:46: SettingWithCopyWarning: \n",
      "A value is trying to be set on a copy of a slice from a DataFrame\n",
      "\n",
      "See the caveats in the documentation: https://pandas.pydata.org/pandas-docs/stable/user_guide/indexing.html#returning-a-view-versus-a-copy\n",
      "  rides.rename(columns = {\n",
      "  0%|          | 0/12 [00:40<?, ?it/s]\n"
     ]
    },
    {
     "ename": "TypeError",
     "evalue": "validate_raw_data() missing 2 required positional arguments: 'year' and 'month'",
     "output_type": "error",
     "traceback": [
      "\u001b[1;31m---------------------------------------------------------------------------\u001b[0m",
      "\u001b[1;31mTypeError\u001b[0m                                 Traceback (most recent call last)",
      "Cell \u001b[1;32mIn[2], line 1\u001b[0m\n\u001b[1;32m----> 1\u001b[0m \u001b[43mload_raw_data\u001b[49m\u001b[43m(\u001b[49m\u001b[43myear\u001b[49m\u001b[38;5;241;43m=\u001b[39;49m\u001b[38;5;241;43m2023\u001b[39;49m\u001b[43m)\u001b[49m\n",
      "File \u001b[1;32mC:\\Users/user/Documents/Giraffa/my_learning_projects/taxi_demand_rwml\\src\\data.py:51\u001b[0m, in \u001b[0;36mload_raw_data\u001b[1;34m(year, months)\u001b[0m\n\u001b[0;32m     46\u001b[0m     rides\u001b[38;5;241m.\u001b[39mrename(columns \u001b[38;5;241m=\u001b[39m {\n\u001b[0;32m     47\u001b[0m         \u001b[38;5;124m\"\u001b[39m\u001b[38;5;124mtpep_pickup_datetime\u001b[39m\u001b[38;5;124m\"\u001b[39m:\u001b[38;5;124m\"\u001b[39m\u001b[38;5;124mpickup_datetime\u001b[39m\u001b[38;5;124m\"\u001b[39m, \n\u001b[0;32m     48\u001b[0m         \u001b[38;5;124m\"\u001b[39m\u001b[38;5;124mPULocationID\u001b[39m\u001b[38;5;124m\"\u001b[39m:\u001b[38;5;124m\"\u001b[39m\u001b[38;5;124mlocation_id\u001b[39m\u001b[38;5;124m\"\u001b[39m}, inplace\u001b[38;5;241m=\u001b[39m\u001b[38;5;28;01mTrue\u001b[39;00m)\n\u001b[0;32m     50\u001b[0m     \u001b[38;5;66;03m# Validate the monthly data\u001b[39;00m\n\u001b[1;32m---> 51\u001b[0m     validated_rides \u001b[38;5;241m=\u001b[39m \u001b[43mvalidate_raw_data\u001b[49m\u001b[43m(\u001b[49m\u001b[43mrides\u001b[49m\u001b[43m)\u001b[49m\n\u001b[0;32m     52\u001b[0m     data_df \u001b[38;5;241m=\u001b[39m pd\u001b[38;5;241m.\u001b[39mconcat([data_df, validated_rides])\n\u001b[0;32m     53\u001b[0m data_df\u001b[38;5;241m.\u001b[39mreset_index(drop\u001b[38;5;241m=\u001b[39m\u001b[38;5;28;01mTrue\u001b[39;00m)\n",
      "\u001b[1;31mTypeError\u001b[0m: validate_raw_data() missing 2 required positional arguments: 'year' and 'month'"
     ]
    }
   ],
   "source": [
    "load_raw_data(year=2023)"
   ]
  }
 ],
 "metadata": {
  "kernelspec": {
   "display_name": "venv_taxi",
   "language": "python",
   "name": "python3"
  },
  "language_info": {
   "codemirror_mode": {
    "name": "ipython",
    "version": 3
   },
   "file_extension": ".py",
   "mimetype": "text/x-python",
   "name": "python",
   "nbconvert_exporter": "python",
   "pygments_lexer": "ipython3",
   "version": "3.12.2"
  }
 },
 "nbformat": 4,
 "nbformat_minor": 2
}
