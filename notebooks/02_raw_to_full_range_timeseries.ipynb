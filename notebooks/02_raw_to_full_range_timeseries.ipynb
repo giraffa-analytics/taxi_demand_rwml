{
 "cells": [
  {
   "cell_type": "code",
   "execution_count": 1,
   "metadata": {},
   "outputs": [],
   "source": [
    "import pandas as pd"
   ]
  },
  {
   "cell_type": "code",
   "execution_count": 6,
   "metadata": {},
   "outputs": [
    {
     "name": "stdout",
     "output_type": "stream",
     "text": [
      "(3066718, 2)\n",
      "      pickup_datetime  location_id\n",
      "0 2023-01-01 00:32:10          161\n",
      "1 2023-01-01 00:55:08           43\n",
      "2 2023-01-01 00:25:04           48\n"
     ]
    }
   ],
   "source": [
    "# Read in the validated data\n",
    "PATH = \"../data/validated/val_rides_2023_01.parquet\"\n",
    "rides = pd.read_parquet(PATH)\n",
    "print(rides.shape)\n",
    "print(rides.head(3))"
   ]
  },
  {
   "cell_type": "code",
   "execution_count": 12,
   "metadata": {},
   "outputs": [
    {
     "data": {
      "text/html": [
       "<div>\n",
       "<style scoped>\n",
       "    .dataframe tbody tr th:only-of-type {\n",
       "        vertical-align: middle;\n",
       "    }\n",
       "\n",
       "    .dataframe tbody tr th {\n",
       "        vertical-align: top;\n",
       "    }\n",
       "\n",
       "    .dataframe thead th {\n",
       "        text-align: right;\n",
       "    }\n",
       "</style>\n",
       "<table border=\"1\" class=\"dataframe\">\n",
       "  <thead>\n",
       "    <tr style=\"text-align: right;\">\n",
       "      <th></th>\n",
       "      <th>pickup_datetime</th>\n",
       "      <th>location_id</th>\n",
       "      <th>pickup_hour</th>\n",
       "    </tr>\n",
       "  </thead>\n",
       "  <tbody>\n",
       "    <tr>\n",
       "      <th>0</th>\n",
       "      <td>2023-01-01 00:32:10</td>\n",
       "      <td>161</td>\n",
       "      <td>2023-01-01 00:00:00</td>\n",
       "    </tr>\n",
       "    <tr>\n",
       "      <th>1</th>\n",
       "      <td>2023-01-01 00:55:08</td>\n",
       "      <td>43</td>\n",
       "      <td>2023-01-01 00:00:00</td>\n",
       "    </tr>\n",
       "    <tr>\n",
       "      <th>2</th>\n",
       "      <td>2023-01-01 00:25:04</td>\n",
       "      <td>48</td>\n",
       "      <td>2023-01-01 00:00:00</td>\n",
       "    </tr>\n",
       "    <tr>\n",
       "      <th>3</th>\n",
       "      <td>2023-01-01 00:03:48</td>\n",
       "      <td>138</td>\n",
       "      <td>2023-01-01 00:00:00</td>\n",
       "    </tr>\n",
       "    <tr>\n",
       "      <th>4</th>\n",
       "      <td>2023-01-01 00:10:29</td>\n",
       "      <td>107</td>\n",
       "      <td>2023-01-01 00:00:00</td>\n",
       "    </tr>\n",
       "    <tr>\n",
       "      <th>...</th>\n",
       "      <td>...</td>\n",
       "      <td>...</td>\n",
       "      <td>...</td>\n",
       "    </tr>\n",
       "    <tr>\n",
       "      <th>3066761</th>\n",
       "      <td>2023-01-31 23:58:34</td>\n",
       "      <td>107</td>\n",
       "      <td>2023-01-31 23:00:00</td>\n",
       "    </tr>\n",
       "    <tr>\n",
       "      <th>3066762</th>\n",
       "      <td>2023-01-31 23:31:09</td>\n",
       "      <td>112</td>\n",
       "      <td>2023-01-31 23:00:00</td>\n",
       "    </tr>\n",
       "    <tr>\n",
       "      <th>3066763</th>\n",
       "      <td>2023-01-31 23:01:05</td>\n",
       "      <td>114</td>\n",
       "      <td>2023-01-31 23:00:00</td>\n",
       "    </tr>\n",
       "    <tr>\n",
       "      <th>3066764</th>\n",
       "      <td>2023-01-31 23:40:00</td>\n",
       "      <td>230</td>\n",
       "      <td>2023-01-31 23:00:00</td>\n",
       "    </tr>\n",
       "    <tr>\n",
       "      <th>3066765</th>\n",
       "      <td>2023-01-31 23:07:32</td>\n",
       "      <td>262</td>\n",
       "      <td>2023-01-31 23:00:00</td>\n",
       "    </tr>\n",
       "  </tbody>\n",
       "</table>\n",
       "<p>3066718 rows × 3 columns</p>\n",
       "</div>"
      ],
      "text/plain": [
       "            pickup_datetime  location_id         pickup_hour\n",
       "0       2023-01-01 00:32:10          161 2023-01-01 00:00:00\n",
       "1       2023-01-01 00:55:08           43 2023-01-01 00:00:00\n",
       "2       2023-01-01 00:25:04           48 2023-01-01 00:00:00\n",
       "3       2023-01-01 00:03:48          138 2023-01-01 00:00:00\n",
       "4       2023-01-01 00:10:29          107 2023-01-01 00:00:00\n",
       "...                     ...          ...                 ...\n",
       "3066761 2023-01-31 23:58:34          107 2023-01-31 23:00:00\n",
       "3066762 2023-01-31 23:31:09          112 2023-01-31 23:00:00\n",
       "3066763 2023-01-31 23:01:05          114 2023-01-31 23:00:00\n",
       "3066764 2023-01-31 23:40:00          230 2023-01-31 23:00:00\n",
       "3066765 2023-01-31 23:07:32          262 2023-01-31 23:00:00\n",
       "\n",
       "[3066718 rows x 3 columns]"
      ]
     },
     "execution_count": 12,
     "metadata": {},
     "output_type": "execute_result"
    }
   ],
   "source": [
    "# Rides per hour - time series data at hourly frequency\n",
    "rides['pickup_hour'] = rides.pickup_datetime.dt.floor(\"H\")\n",
    "rides"
   ]
  },
  {
   "cell_type": "code",
   "execution_count": 49,
   "metadata": {},
   "outputs": [
    {
     "data": {
      "text/html": [
       "<div>\n",
       "<style scoped>\n",
       "    .dataframe tbody tr th:only-of-type {\n",
       "        vertical-align: middle;\n",
       "    }\n",
       "\n",
       "    .dataframe tbody tr th {\n",
       "        vertical-align: top;\n",
       "    }\n",
       "\n",
       "    .dataframe thead th {\n",
       "        text-align: right;\n",
       "    }\n",
       "</style>\n",
       "<table border=\"1\" class=\"dataframe\">\n",
       "  <thead>\n",
       "    <tr style=\"text-align: right;\">\n",
       "      <th></th>\n",
       "      <th>location_id</th>\n",
       "      <th>pickup_hour</th>\n",
       "      <th>nr_rides</th>\n",
       "    </tr>\n",
       "  </thead>\n",
       "  <tbody>\n",
       "    <tr>\n",
       "      <th>0</th>\n",
       "      <td>1</td>\n",
       "      <td>2023-01-01 05:00:00</td>\n",
       "      <td>1</td>\n",
       "    </tr>\n",
       "    <tr>\n",
       "      <th>1</th>\n",
       "      <td>1</td>\n",
       "      <td>2023-01-01 08:00:00</td>\n",
       "      <td>1</td>\n",
       "    </tr>\n",
       "    <tr>\n",
       "      <th>2</th>\n",
       "      <td>1</td>\n",
       "      <td>2023-01-01 11:00:00</td>\n",
       "      <td>1</td>\n",
       "    </tr>\n",
       "    <tr>\n",
       "      <th>3</th>\n",
       "      <td>1</td>\n",
       "      <td>2023-01-01 12:00:00</td>\n",
       "      <td>3</td>\n",
       "    </tr>\n",
       "    <tr>\n",
       "      <th>4</th>\n",
       "      <td>1</td>\n",
       "      <td>2023-01-01 13:00:00</td>\n",
       "      <td>4</td>\n",
       "    </tr>\n",
       "    <tr>\n",
       "      <th>...</th>\n",
       "      <td>...</td>\n",
       "      <td>...</td>\n",
       "      <td>...</td>\n",
       "    </tr>\n",
       "    <tr>\n",
       "      <th>71486</th>\n",
       "      <td>265</td>\n",
       "      <td>2023-01-31 19:00:00</td>\n",
       "      <td>2</td>\n",
       "    </tr>\n",
       "    <tr>\n",
       "      <th>71487</th>\n",
       "      <td>265</td>\n",
       "      <td>2023-01-31 20:00:00</td>\n",
       "      <td>1</td>\n",
       "    </tr>\n",
       "    <tr>\n",
       "      <th>71488</th>\n",
       "      <td>265</td>\n",
       "      <td>2023-01-31 21:00:00</td>\n",
       "      <td>3</td>\n",
       "    </tr>\n",
       "    <tr>\n",
       "      <th>71489</th>\n",
       "      <td>265</td>\n",
       "      <td>2023-01-31 22:00:00</td>\n",
       "      <td>5</td>\n",
       "    </tr>\n",
       "    <tr>\n",
       "      <th>71490</th>\n",
       "      <td>265</td>\n",
       "      <td>2023-01-31 23:00:00</td>\n",
       "      <td>5</td>\n",
       "    </tr>\n",
       "  </tbody>\n",
       "</table>\n",
       "<p>71491 rows × 3 columns</p>\n",
       "</div>"
      ],
      "text/plain": [
       "       location_id         pickup_hour  nr_rides\n",
       "0                1 2023-01-01 05:00:00         1\n",
       "1                1 2023-01-01 08:00:00         1\n",
       "2                1 2023-01-01 11:00:00         1\n",
       "3                1 2023-01-01 12:00:00         3\n",
       "4                1 2023-01-01 13:00:00         4\n",
       "...            ...                 ...       ...\n",
       "71486          265 2023-01-31 19:00:00         2\n",
       "71487          265 2023-01-31 20:00:00         1\n",
       "71488          265 2023-01-31 21:00:00         3\n",
       "71489          265 2023-01-31 22:00:00         5\n",
       "71490          265 2023-01-31 23:00:00         5\n",
       "\n",
       "[71491 rows x 3 columns]"
      ]
     },
     "execution_count": 49,
     "metadata": {},
     "output_type": "execute_result"
    }
   ],
   "source": [
    "nr_rides_by_location = rides.groupby(['location_id', 'pickup_hour']).count().reset_index()\n",
    "nr_rides_by_location.rename(columns = {\"pickup_datetime\":\"nr_rides\"}, inplace=True)\n",
    "nr_rides_by_location"
   ]
  },
  {
   "cell_type": "code",
   "execution_count": 61,
   "metadata": {},
   "outputs": [],
   "source": [
    "from tqdm import tqdm"
   ]
  },
  {
   "cell_type": "code",
   "execution_count": 62,
   "metadata": {},
   "outputs": [],
   "source": [
    "# Generate a full range time series for every location\n",
    "def fill_missing_time_slots(rides:pd.DataFrame)->pd.DataFrame:\n",
    "    full_df = pd.DataFrame()\n",
    "    location_ids = rides.location_id.unique()\n",
    "    full_range_ts = pd.date_range(rides.pickup_hour.min(), rides.pickup_hour.max(), freq = 'H')\n",
    "\n",
    "    for location_id in tqdm(location_ids):\n",
    "        location_subset = rides[rides.location_id==location_id]\n",
    "        location_subset.set_index('pickup_hour', inplace=True)\n",
    "        location_subset = location_subset.reindex(full_range_ts, fill_value=0)\n",
    "        location_subset[\"location_id\"] = location_id\n",
    "        location_subset = location_subset.reset_index()\n",
    "        location_subset.rename(columns={'index':'pickup_hour'}, inplace=True)\n",
    "        full_df = pd.concat([full_df, location_subset]).reset_index(drop=True)\n",
    "    return full_df"
   ]
  },
  {
   "cell_type": "code",
   "execution_count": 64,
   "metadata": {},
   "outputs": [
    {
     "name": "stderr",
     "output_type": "stream",
     "text": [
      "100%|██████████| 257/257 [00:00<00:00, 263.55it/s]"
     ]
    },
    {
     "name": "stdout",
     "output_type": "stream",
     "text": [
      "191208\n"
     ]
    },
    {
     "name": "stderr",
     "output_type": "stream",
     "text": [
      "\n"
     ]
    }
   ],
   "source": [
    "full_range_df = fill_missing_time_slots(rides = nr_rides_by_location)\n",
    "print(len(full_range_df))"
   ]
  },
  {
   "cell_type": "code",
   "execution_count": 66,
   "metadata": {},
   "outputs": [],
   "source": [
    "full_range_df.to_parquet(\"../data/transformed/ts_data_2023_01.parquet\")"
   ]
  }
 ],
 "metadata": {
  "kernelspec": {
   "display_name": "venv_taxi",
   "language": "python",
   "name": "python3"
  },
  "language_info": {
   "codemirror_mode": {
    "name": "ipython",
    "version": 3
   },
   "file_extension": ".py",
   "mimetype": "text/x-python",
   "name": "python",
   "nbconvert_exporter": "python",
   "pygments_lexer": "ipython3",
   "version": "3.12.2"
  }
 },
 "nbformat": 4,
 "nbformat_minor": 2
}
